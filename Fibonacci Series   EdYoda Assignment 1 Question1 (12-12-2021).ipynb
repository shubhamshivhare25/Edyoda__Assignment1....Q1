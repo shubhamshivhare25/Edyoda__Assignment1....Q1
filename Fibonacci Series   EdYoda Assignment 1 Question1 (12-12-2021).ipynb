{
 "cells": [
  {
   "cell_type": "markdown",
   "id": "9fa8f0ae",
   "metadata": {},
   "source": [
    "### Write a Python program to get the Fibonacci series between 0 to 50"
   ]
  },
  {
   "cell_type": "code",
   "execution_count": 4,
   "id": "75c7ad4a",
   "metadata": {},
   "outputs": [
    {
     "name": "stdout",
     "output_type": "stream",
     "text": [
      "0 1 1 2 3 5 8 13 21 34 "
     ]
    }
   ],
   "source": [
    "x,y=0,1\n",
    "print(x,end=\" \")\n",
    "while y<50:\n",
    "    print(y,end=\" \")\n",
    "    x,y = y,x+y"
   ]
  },
  {
   "cell_type": "code",
   "execution_count": null,
   "id": "452ea3d9",
   "metadata": {},
   "outputs": [],
   "source": []
  }
 ],
 "metadata": {
  "kernelspec": {
   "display_name": "Python 3 (ipykernel)",
   "language": "python",
   "name": "python3"
  },
  "language_info": {
   "codemirror_mode": {
    "name": "ipython",
    "version": 3
   },
   "file_extension": ".py",
   "mimetype": "text/x-python",
   "name": "python",
   "nbconvert_exporter": "python",
   "pygments_lexer": "ipython3",
   "version": "3.9.1"
  }
 },
 "nbformat": 4,
 "nbformat_minor": 5
}
